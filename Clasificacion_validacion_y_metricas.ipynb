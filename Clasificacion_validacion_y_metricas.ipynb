{
 "cells": [
  {
   "cell_type": "markdown",
   "metadata": {
    "colab_type": "text",
    "id": "view-in-github"
   },
   "source": [
    "<a href=\"https://colab.research.google.com/github/ahcamachod/2162-clasificacion-validacion-de-modelos-y-metricas/blob/main/Clasificacion_validacion_y_metricas.ipynb\" target=\"_parent\"><img src=\"https://colab.research.google.com/assets/colab-badge.svg\" alt=\"Open In Colab\"/></a>"
   ]
  },
  {
   "cell_type": "markdown",
   "metadata": {
    "id": "MCqTDybk4ShK"
   },
   "source": [
    "# <font color='dark'>**Clasificación: Validación de modelos y métricas de evaluación**</h1>"
   ]
  },
  {
   "cell_type": "markdown",
   "metadata": {
    "id": "WscU3KG7a9No"
   },
   "source": [
    "### Proyecto\n",
    "\n",
    "Una empresa de financiamiento de automóviles está atravesando una situación complicada, con una alta demanda para una flota reducida de vehículos y un alto número de morosos, lo que está generando grandes pérdidas para la empresa.\n",
    "\n",
    "Nosotros fuimos contratados para buscar mejoras en la identificación de morosos. El análisis de los clientes actualmente se realiza de forma manual, cliente por cliente, lo que consume mucho tiempo y, aun así, la detección de morosos es muy imprecisa.\n",
    "\n",
    "Nuestra tarea es utilizar los datos proporcionados por la empresa para **clasificar** a los clientes en cumplidores y morosos."
   ]
  },
  {
   "cell_type": "markdown",
   "metadata": {
    "id": "WgS8iF51Csrn"
   },
   "source": [
    "## <font color='dark'>Clasificando los datos</h1>"
   ]
  },
  {
   "cell_type": "markdown",
   "metadata": {
    "id": "6lExmBuKn-xe"
   },
   "source": [
    "### Creando un modelo inicial"
   ]
  },
  {
   "cell_type": "code",
   "execution_count": 1,
   "metadata": {
    "id": "ANJDC3LqP43q"
   },
   "outputs": [],
   "source": [
    "import pandas as pd"
   ]
  },
  {
   "cell_type": "code",
   "execution_count": 2,
   "metadata": {
    "id": "UPddns6dP4kt"
   },
   "outputs": [],
   "source": [
    "datos =  pd.read_csv('prestacar.csv')"
   ]
  },
  {
   "cell_type": "code",
   "execution_count": 3,
   "metadata": {
    "id": "UVIX6QLpP4iC"
   },
   "outputs": [
    {
     "data": {
      "text/html": [
       "<div>\n",
       "<style scoped>\n",
       "    .dataframe tbody tr th:only-of-type {\n",
       "        vertical-align: middle;\n",
       "    }\n",
       "\n",
       "    .dataframe tbody tr th {\n",
       "        vertical-align: top;\n",
       "    }\n",
       "\n",
       "    .dataframe thead th {\n",
       "        text-align: right;\n",
       "    }\n",
       "</style>\n",
       "<table border=\"1\" class=\"dataframe\">\n",
       "  <thead>\n",
       "    <tr style=\"text-align: right;\">\n",
       "      <th></th>\n",
       "      <th>ingresos_cliente</th>\n",
       "      <th>anualidad_prestamo</th>\n",
       "      <th>años_casa_propia</th>\n",
       "      <th>telefono_trab</th>\n",
       "      <th>evaluacion_ciudad</th>\n",
       "      <th>score_1</th>\n",
       "      <th>score_2</th>\n",
       "      <th>score_3</th>\n",
       "      <th>score_social</th>\n",
       "      <th>cambio_telefono</th>\n",
       "      <th>moroso</th>\n",
       "    </tr>\n",
       "  </thead>\n",
       "  <tbody>\n",
       "    <tr>\n",
       "      <th>0</th>\n",
       "      <td>12600.0</td>\n",
       "      <td>3569.400000</td>\n",
       "      <td>12.157324</td>\n",
       "      <td>1</td>\n",
       "      <td>2.0</td>\n",
       "      <td>0.057153</td>\n",
       "      <td>0.527227</td>\n",
       "      <td>0.513171</td>\n",
       "      <td>0.117428</td>\n",
       "      <td>2545.0</td>\n",
       "      <td>0</td>\n",
       "    </tr>\n",
       "    <tr>\n",
       "      <th>1</th>\n",
       "      <td>9000.0</td>\n",
       "      <td>2722.188351</td>\n",
       "      <td>7.000000</td>\n",
       "      <td>0</td>\n",
       "      <td>2.0</td>\n",
       "      <td>0.657661</td>\n",
       "      <td>0.285898</td>\n",
       "      <td>0.614414</td>\n",
       "      <td>0.222700</td>\n",
       "      <td>495.0</td>\n",
       "      <td>0</td>\n",
       "    </tr>\n",
       "    <tr>\n",
       "      <th>2</th>\n",
       "      <td>15750.0</td>\n",
       "      <td>4477.500000</td>\n",
       "      <td>12.000000</td>\n",
       "      <td>0</td>\n",
       "      <td>2.0</td>\n",
       "      <td>0.501213</td>\n",
       "      <td>0.695423</td>\n",
       "      <td>0.513171</td>\n",
       "      <td>0.117428</td>\n",
       "      <td>1212.0</td>\n",
       "      <td>0</td>\n",
       "    </tr>\n",
       "    <tr>\n",
       "      <th>3</th>\n",
       "      <td>9000.0</td>\n",
       "      <td>1309.050000</td>\n",
       "      <td>12.157324</td>\n",
       "      <td>0</td>\n",
       "      <td>3.0</td>\n",
       "      <td>0.501213</td>\n",
       "      <td>0.155973</td>\n",
       "      <td>0.513171</td>\n",
       "      <td>0.117428</td>\n",
       "      <td>515.0</td>\n",
       "      <td>0</td>\n",
       "    </tr>\n",
       "    <tr>\n",
       "      <th>4</th>\n",
       "      <td>7650.0</td>\n",
       "      <td>1125.000000</td>\n",
       "      <td>12.157324</td>\n",
       "      <td>0</td>\n",
       "      <td>2.0</td>\n",
       "      <td>0.294328</td>\n",
       "      <td>0.152076</td>\n",
       "      <td>0.513171</td>\n",
       "      <td>0.117428</td>\n",
       "      <td>162.0</td>\n",
       "      <td>0</td>\n",
       "    </tr>\n",
       "  </tbody>\n",
       "</table>\n",
       "</div>"
      ],
      "text/plain": [
       "   ingresos_cliente  anualidad_prestamo  años_casa_propia  telefono_trab  \\\n",
       "0           12600.0         3569.400000         12.157324              1   \n",
       "1            9000.0         2722.188351          7.000000              0   \n",
       "2           15750.0         4477.500000         12.000000              0   \n",
       "3            9000.0         1309.050000         12.157324              0   \n",
       "4            7650.0         1125.000000         12.157324              0   \n",
       "\n",
       "   evaluacion_ciudad   score_1   score_2   score_3  score_social  \\\n",
       "0                2.0  0.057153  0.527227  0.513171      0.117428   \n",
       "1                2.0  0.657661  0.285898  0.614414      0.222700   \n",
       "2                2.0  0.501213  0.695423  0.513171      0.117428   \n",
       "3                3.0  0.501213  0.155973  0.513171      0.117428   \n",
       "4                2.0  0.294328  0.152076  0.513171      0.117428   \n",
       "\n",
       "   cambio_telefono  moroso  \n",
       "0           2545.0       0  \n",
       "1            495.0       0  \n",
       "2           1212.0       0  \n",
       "3            515.0       0  \n",
       "4            162.0       0  "
      ]
     },
     "execution_count": 3,
     "metadata": {},
     "output_type": "execute_result"
    }
   ],
   "source": [
    "datos.head()"
   ]
  },
  {
   "cell_type": "code",
   "execution_count": 4,
   "metadata": {
    "id": "MikoMXI7P4dG"
   },
   "outputs": [
    {
     "name": "stdout",
     "output_type": "stream",
     "text": [
      "<class 'pandas.core.frame.DataFrame'>\n",
      "RangeIndex: 54025 entries, 0 to 54024\n",
      "Data columns (total 11 columns):\n",
      " #   Column              Non-Null Count  Dtype  \n",
      "---  ------              --------------  -----  \n",
      " 0   ingresos_cliente    54025 non-null  float64\n",
      " 1   anualidad_prestamo  54025 non-null  float64\n",
      " 2   años_casa_propia    54025 non-null  float64\n",
      " 3   telefono_trab       54025 non-null  int64  \n",
      " 4   evaluacion_ciudad   54025 non-null  float64\n",
      " 5   score_1             54025 non-null  float64\n",
      " 6   score_2             54025 non-null  float64\n",
      " 7   score_3             54025 non-null  float64\n",
      " 8   score_social        54025 non-null  float64\n",
      " 9   cambio_telefono     54025 non-null  float64\n",
      " 10  moroso              54025 non-null  int64  \n",
      "dtypes: float64(9), int64(2)\n",
      "memory usage: 4.5 MB\n"
     ]
    }
   ],
   "source": [
    "datos.info()"
   ]
  },
  {
   "cell_type": "code",
   "execution_count": 5,
   "metadata": {},
   "outputs": [],
   "source": [
    "X = datos.drop(columns='moroso', axis=1)\n",
    "Y = datos['moroso']"
   ]
  },
  {
   "cell_type": "code",
   "execution_count": 6,
   "metadata": {},
   "outputs": [],
   "source": [
    "from sklearn.tree import DecisionTreeClassifier"
   ]
  },
  {
   "cell_type": "code",
   "execution_count": 7,
   "metadata": {},
   "outputs": [
    {
     "data": {
      "text/plain": [
       "1.0"
      ]
     },
     "execution_count": 7,
     "metadata": {},
     "output_type": "execute_result"
    }
   ],
   "source": [
    "modelo = DecisionTreeClassifier()\n",
    "modelo.fit(X, Y)\n",
    "modelo.score(X, Y)"
   ]
  },
  {
   "cell_type": "markdown",
   "metadata": {
    "id": "EPrFcm39oAof"
   },
   "source": [
    "### Validando el modelo"
   ]
  },
  {
   "cell_type": "markdown",
   "metadata": {
    "id": "v0u-uij9eNcD"
   },
   "source": [
    "Evaluar el modelo con los mismos datos utilizados en el entrenamiento no es recomendable. Es necesario que la evaluación se realice con datos independientes.  \n",
    "\n",
    "Evaluar el modelo con los propios datos de entrenamiento sería equivalente a entregar un examen con las preguntas y las respuestas a una persona y, al momento de evaluarla nuevamente, entregarle un examen con las mismas preguntas y opciones. Se espera que esa persona obtenga un buen resultado, ya que ya ha visto las respuestas y ha memorizado el resultado. Esto es diferente de haber aprendido la materia a partir de ese examen y luego presentar una prueba con contenido similar y obtener un resultado positivo.  \n",
    "\n",
    "Con el objetivo de verificar la capacidad de generalización de un modelo, debemos dividir el conjunto de datos en tres partes: datos de entrenamiento, validación y prueba.  \n",
    "\n",
    "- El **conjunto de entrenamiento** se utiliza para entrenar los modelos. A partir de este conjunto, los modelos identifican patrones en los datos.  \n",
    "\n",
    "- El **conjunto de validación** se emplea para evaluar el desempeño de diferentes modelos con datos nuevos que no fueron utilizados en el entrenamiento.  \n",
    "\n",
    "- El **conjunto de prueba** se mantiene separado desde el inicio para simular datos del mundo real. No se utiliza en ninguna etapa del entrenamiento ni de la validación, sirviendo como una estimación de la capacidad del modelo elegido para generalizar y predecir nuevos datos."
   ]
  },
  {
   "cell_type": "markdown",
   "metadata": {
    "id": "TCIN5oOJFk_W"
   },
   "source": [
    "<a href=\"https://ibb.co/9H2Z1HZ5\"><img src=\"https://i.ibb.co/0yZs6ysb/datos-train-test.png\" alt=\"datos-train-test\" border=\"0\"></a>"
   ]
  },
  {
   "cell_type": "code",
   "execution_count": 8,
   "metadata": {
    "id": "OICJjv9HP1QZ"
   },
   "outputs": [],
   "source": [
    "from sklearn.model_selection import train_test_split"
   ]
  },
  {
   "cell_type": "code",
   "execution_count": 9,
   "metadata": {
    "id": "mvDcVFFDP1sB"
   },
   "outputs": [],
   "source": [
    "X, X_test, Y, Y_test = train_test_split(X, Y, stratify=Y, test_size=0.15, random_state=5)\n",
    "X_train, X_val, Y_train, Y_val = train_test_split(X, Y, stratify=Y, test_size=0.25, random_state=5)"
   ]
  },
  {
   "cell_type": "code",
   "execution_count": 10,
   "metadata": {
    "id": "sEJPwwG_P1Md"
   },
   "outputs": [
    {
     "name": "stdout",
     "output_type": "stream",
     "text": [
      "la exactitud con el conjunto de entrenamiento es de: 0.9205865272938444\n",
      "la exactitud con el conjunto de validación es de: 0.9059315390645414\n"
     ]
    }
   ],
   "source": [
    "modelo = DecisionTreeClassifier(max_depth=10)\n",
    "modelo.fit(X_train, Y_train)\n",
    "print(f'la exactitud con el conjunto de entrenamiento es de: {modelo.score(X_train, Y_train)}')\n",
    "print(f'la exactitud con el conjunto de validación es de: {modelo.score(X_val, Y_val)}')"
   ]
  },
  {
   "cell_type": "markdown",
   "metadata": {
    "id": "WtlRAZt96VLG"
   },
   "source": [
    "### Evaluando el modelo"
   ]
  },
  {
   "cell_type": "code",
   "execution_count": 11,
   "metadata": {
    "id": "IlUZBhPrPyYh"
   },
   "outputs": [],
   "source": [
    "from sklearn.metrics import confusion_matrix, ConfusionMatrixDisplay"
   ]
  },
  {
   "cell_type": "code",
   "execution_count": 12,
   "metadata": {
    "id": "iill3u5HPyOA"
   },
   "outputs": [
    {
     "name": "stdout",
     "output_type": "stream",
     "text": [
      "[[10358   121]\n",
      " [  959    43]]\n"
     ]
    }
   ],
   "source": [
    "Y_previsto = modelo.predict(X_val)\n",
    "matriz_confusion = confusion_matrix(Y_val, Y_previsto)\n",
    "print(matriz_confusion)"
   ]
  },
  {
   "cell_type": "code",
   "execution_count": 13,
   "metadata": {
    "id": "gtFWt6emPyJt"
   },
   "outputs": [
    {
     "data": {
      "image/png": "[encoded data removed]",
      "text/plain": [
       "<Figure size 640x480 with 2 Axes>"
      ]
     },
     "metadata": {},
     "output_type": "display_data"
    }
   ],
   "source": [
    "visualizacion = ConfusionMatrixDisplay(confusion_matrix = matriz_confusion,\n",
    "                                       display_labels={'Cumplido', 'Moroso'})\n",
    "visualizacion.plot();"
   ]
  },
  {
   "cell_type": "markdown",
   "metadata": {
    "id": "tPogL-24ntSH"
   },
   "source": [
    "## <font color='dark'>Métricas de evaluación</h1>"
   ]
  },
  {
   "cell_type": "markdown",
   "metadata": {
    "id": "nP1WfyyR6XMl"
   },
   "source": [
    "### Exactitud, precisión y recall (sensibilidad)."
   ]
  },
  {
   "cell_type": "markdown",
   "metadata": {
    "id": "oE8N0NqoH6hy"
   },
   "source": [
    "<a href=\"https://ibb.co/351SbY7t\"><img src=\"https://i.ibb.co/wZypqrRD/matriz-confusion.png\" alt=\"matriz-confusion\" border=\"0\"></a>"
   ]
  },
  {
   "cell_type": "markdown",
   "metadata": {
    "id": "k0ldCSgoZiPX"
   },
   "source": [
    "<a href=\"https://imgbb.com/\"><img src=\"https://i.ibb.co/6Jp6rKyC/Captura-de-tela-2025-03-22-120744.png\" alt=\"Captura-de-tela-2025-03-22-120744\" border=\"0\"></a>"
   ]
  },
  {
   "cell_type": "code",
   "execution_count": 14,
   "metadata": {
    "id": "IIEaf2fmPmq1"
   },
   "outputs": [],
   "source": [
    "from sklearn.metrics import accuracy_score, precision_score, f1_score, recall_score"
   ]
  },
  {
   "cell_type": "code",
   "execution_count": 15,
   "metadata": {
    "id": "QnGxEIrWPmbx"
   },
   "outputs": [
    {
     "name": "stdout",
     "output_type": "stream",
     "text": [
      "La presicion del modelo es: 0.2621951219512195\n",
      "El recall (Sensibilidad) del modelo es: 0.04291417165668663\n",
      "La f1 del modelo es: 0.07375643224699828\n",
      "La exactitud del modelo es: 0.9059315390645414\n"
     ]
    }
   ],
   "source": [
    "print(f'La presicion del modelo es: {precision_score(Y_val, Y_previsto)}')\n",
    "print(f'El recall (Sensibilidad) del modelo es: {recall_score(Y_val, Y_previsto)}') #Mientras mas cerca del 1, mejor\n",
    "print(f'La f1 del modelo es: {f1_score(Y_val, Y_previsto)}') #Mientras mas lejos del 1, peor\n",
    "print(f'La exactitud del modelo es: {accuracy_score(Y_val, Y_previsto)}') #Mientras mas cerca del 1, mejor"
   ]
  },
  {
   "cell_type": "markdown",
   "metadata": {
    "id": "I8ELhexg2jNx"
   },
   "source": [
    "### Curva ROC"
   ]
  },
  {
   "cell_type": "code",
   "execution_count": 16,
   "metadata": {
    "colab": {
     "base_uri": "https://localhost:8080/",
     "height": 420
    },
    "id": "PhUNE4Xm4MII",
    "outputId": "af2368d8-847d-459b-b11a-c079a4d4c433"
   },
   "outputs": [
    {
     "data": {
      "text/html": [
       "<img src=\"https://raw.githubusercontent.com/dariyasydykova/open_projects/master/ROC_animation/animations/cutoff.gif\"/>"
      ],
      "text/plain": [
       "<IPython.core.display.Image object>"
      ]
     },
     "execution_count": 16,
     "metadata": {},
     "output_type": "execute_result"
    }
   ],
   "source": [
    "from IPython.display import Image\n",
    "Image(url='https://raw.githubusercontent.com/dariyasydykova/open_projects/master/ROC_animation/animations/cutoff.gif')"
   ]
  },
  {
   "cell_type": "markdown",
   "metadata": {
    "id": "XK8_7Ruy32BT"
   },
   "source": [
    "Fuente: [paulvanderlaken.com](https://paulvanderlaken.com/2019/08/16/roc-auc-precision-and-recall-visually-explained/)\n",
    "\n",
    "\n"
   ]
  },
  {
   "cell_type": "code",
   "execution_count": 17,
   "metadata": {
    "id": "FHc-8FjePhM6"
   },
   "outputs": [],
   "source": [
    "from sklearn.metrics import RocCurveDisplay"
   ]
  },
  {
   "cell_type": "code",
   "execution_count": 18,
   "metadata": {},
   "outputs": [
    {
     "data": {
      "text/plain": [
       "<sklearn.metrics._plot.roc_curve.RocCurveDisplay at 0x1f82dff9240>"
      ]
     },
     "execution_count": 18,
     "metadata": {},
     "output_type": "execute_result"
    },
    {
     "data": {
      "image/png": "[encoded data removed]",
      "text/plain": [
       "<Figure size 640x480 with 1 Axes>"
      ]
     },
     "metadata": {},
     "output_type": "display_data"
    }
   ],
   "source": [
    "RocCurveDisplay.from_estimator(modelo, X_val, Y_val, name='Decision Tree')"
   ]
  },
  {
   "cell_type": "code",
   "execution_count": 19,
   "metadata": {
    "id": "V6Ua2rY3PhFt"
   },
   "outputs": [],
   "source": [
    "from sklearn.metrics import roc_auc_score"
   ]
  },
  {
   "cell_type": "code",
   "execution_count": 20,
   "metadata": {
    "id": "LJE-yyWMPg8R"
   },
   "outputs": [
    {
     "name": "stdout",
     "output_type": "stream",
     "text": [
      "La Area bajo la curva ROC es: 0.515683634163108\n"
     ]
    }
   ],
   "source": [
    "print(f'La Area bajo la curva ROC es: {roc_auc_score(Y_val, Y_previsto)}') #Mientras mas cerca del 1, mejor"
   ]
  },
  {
   "cell_type": "markdown",
   "metadata": {
    "id": "IztSEZfh7QFe"
   },
   "source": [
    "### Curva de  precisión x sensibilidad"
   ]
  },
  {
   "cell_type": "code",
   "execution_count": null,
   "metadata": {
    "colab": {
     "base_uri": "https://localhost:8080/",
     "height": 420
    },
    "id": "EJzfjuxa3fxD",
    "outputId": "924ea149-4438-48f7-cec5-e2ebd55c5fc8"
   },
   "outputs": [
    {
     "data": {
      "text/html": [
       "<img src=\"https://paulvanderlaken.com/wp-content/uploads/2019/08/roc.gif\"/>"
      ],
      "text/plain": [
       "<IPython.core.display.Image object>"
      ]
     },
     "execution_count": 25,
     "metadata": {},
     "output_type": "execute_result"
    }
   ],
   "source": [
    "Image(url='https://paulvanderlaken.com/wp-content/uploads/2019/08/roc.gif')"
   ]
  },
  {
   "cell_type": "markdown",
   "metadata": {
    "id": "bUoGCSUB4msC"
   },
   "source": [
    "Fuente: [paulvanderlaken.com](https://paulvanderlaken.com/2019/08/16/roc-auc-precision-and-recall-visually-explained/)\n"
   ]
  },
  {
   "cell_type": "code",
   "execution_count": 21,
   "metadata": {
    "id": "7t20ira6Pcds"
   },
   "outputs": [],
   "source": [
    "from sklearn.metrics import PrecisionRecallDisplay"
   ]
  },
  {
   "cell_type": "code",
   "execution_count": 22,
   "metadata": {
    "id": "Drs3Z6RTPcTc"
   },
   "outputs": [
    {
     "data": {
      "text/plain": [
       "<sklearn.metrics._plot.precision_recall_curve.PrecisionRecallDisplay at 0x1f81e8b3400>"
      ]
     },
     "execution_count": 22,
     "metadata": {},
     "output_type": "execute_result"
    },
    {
     "data": {
      "image/png": "[encoded data removed]",
      "text/plain": [
       "<Figure size 640x480 with 1 Axes>"
      ]
     },
     "metadata": {},
     "output_type": "display_data"
    }
   ],
   "source": [
    "PrecisionRecallDisplay.from_predictions(Y_val, Y_previsto, name='Decision Tree')"
   ]
  },
  {
   "cell_type": "code",
   "execution_count": 38,
   "metadata": {
    "id": "DmhO5H5cPcOp"
   },
   "outputs": [],
   "source": [
    "from sklearn.metrics import average_precision_score"
   ]
  },
  {
   "cell_type": "code",
   "execution_count": 39,
   "metadata": {
    "id": "SS08sHDkPeaG"
   },
   "outputs": [
    {
     "name": "stdout",
     "output_type": "stream",
     "text": [
      "El Score promedio de precisión es: 0.09418878958831749\n"
     ]
    }
   ],
   "source": [
    "print(f'El Score promedio de precisión es: {average_precision_score(Y_val, Y_previsto)}') #Mientras mas cerca del 1, mejor"
   ]
  },
  {
   "cell_type": "markdown",
   "metadata": {
    "id": "Bm2E6GEJDJLH"
   },
   "source": [
    "### Informe de métricas"
   ]
  },
  {
   "cell_type": "code",
   "execution_count": 23,
   "metadata": {
    "id": "C85qunYhPZTJ"
   },
   "outputs": [],
   "source": [
    "from sklearn.metrics import classification_report"
   ]
  },
  {
   "cell_type": "code",
   "execution_count": 41,
   "metadata": {
    "id": "pnN6QRlYPZQR"
   },
   "outputs": [
    {
     "name": "stdout",
     "output_type": "stream",
     "text": [
      "classification_report:\n",
      "              precision    recall  f1-score   support\n",
      "\n",
      "           0       0.92      0.99      0.95     10479\n",
      "           1       0.26      0.04      0.07      1002\n",
      "\n",
      "    accuracy                           0.91     11481\n",
      "   macro avg       0.59      0.51      0.51     11481\n",
      "weighted avg       0.86      0.91      0.87     11481\n",
      "\n"
     ]
    }
   ],
   "source": [
    "print(f'classification_report:\\n{classification_report(Y_val, Y_previsto)}')"
   ]
  },
  {
   "cell_type": "markdown",
   "metadata": {
    "id": "SuxCy_oZZQxE"
   },
   "source": [
    "## <font color='dark'> Validación cruzada</h1>"
   ]
  },
  {
   "cell_type": "markdown",
   "metadata": {
    "id": "17q2T0iRnzSg"
   },
   "source": [
    "### Usando KFold"
   ]
  },
  {
   "cell_type": "markdown",
   "metadata": {
    "id": "zjfYnDWJ6C2A"
   },
   "source": [
    "La validación del modelo de clasificación a partir de la separación de los datos en conjuntos de entrenamiento y validación hace que el resultado dependa en gran medida de esta división. Puede suceder que, de forma aleatoria, el patrón de los datos de validación sea diferente al de los datos de entrenamiento, lo que podría llevar a obtener un resultado mucho mejor o mucho peor que la realidad simplemente por suerte o mala suerte.  \n",
    "\n",
    "Teniendo esto en cuenta, es posible utilizar la **validación cruzada**, una estrategia más consistente y ampliamente utilizada en proyectos de *machine learning*.  \n",
    "\n",
    "En la validación cruzada, en lugar de separar los datos en entrenamiento y validación una sola vez, se dividen en varias partes de igual tamaño. En cada una de estas divisiones, se usa una parte para validación y todas las demás para entrenamiento. Este proceso se repite hasta que todas las partes hayan sido utilizadas tanto para validación como para entrenamiento.  \n",
    "\n",
    "Se generará un modelo para cada una de estas divisiones y la evaluación del desempeño se realizará promediando la métrica de cada modelo. Esto elimina la dependencia de la separación de los datos, ya que hay una mayor variación en la selección de los mismos y se obtiene un valor medio.  \n",
    "\n",
    "Generalmente, se utilizan 5 o 10 partes. Un número mayor no suele ser necesario, ya que implica un procesamiento más costoso, y valores menores ya ayudan a mitigar el problema de la selección de los datos."
   ]
  },
  {
   "cell_type": "markdown",
   "metadata": {
    "id": "oSboV-QNMG__"
   },
   "source": [
    "<a href=\"https://ibb.co/KcBtshJR\"><img src=\"https://i.ibb.co/nq4X1mFZ/train-y-validacion.png\" alt=\"train-y-validacion\" border=\"0\"></a>"
   ]
  },
  {
   "cell_type": "code",
   "execution_count": 24,
   "metadata": {
    "id": "TU8HYdzmPI7P"
   },
   "outputs": [],
   "source": [
    "from sklearn.model_selection import KFold, cross_validate"
   ]
  },
  {
   "cell_type": "code",
   "execution_count": 44,
   "metadata": {
    "id": "McSadnzDPI4G"
   },
   "outputs": [
    {
     "data": {
      "text/plain": [
       "{'fit_time': array([0.243402  , 0.25692225, 0.23632646, 0.22938466, 0.24465966]),\n",
       " 'score_time': array([0.00299025, 0.00298715, 0.00398993, 0.00303459, 0.00598383]),\n",
       " 'test_score': array([0.9127926 , 0.90733885, 0.90755662, 0.91343641, 0.89993467])}"
      ]
     },
     "execution_count": 44,
     "metadata": {},
     "output_type": "execute_result"
    }
   ],
   "source": [
    "modelo = DecisionTreeClassifier(max_depth=10, random_state=5)\n",
    "kf = KFold(n_splits=5, shuffle=True, random_state=5)\n",
    "CV_results = cross_validate(modelo, X, Y, cv=kf)\n",
    "CV_results"
   ]
  },
  {
   "cell_type": "code",
   "execution_count": 48,
   "metadata": {
    "id": "o5oZ8-lhPIy_"
   },
   "outputs": [
    {
     "name": "stdout",
     "output_type": "stream",
     "text": [
      "El promedio de precisión es: 0.9082\n",
      "La desviación estándar de la precisión es: 0.0049\n",
      "El intervalo de confianza es: [0.8985960000000001, 0.917804]\n"
     ]
    }
   ],
   "source": [
    "promedio_precision = CV_results['test_score'].mean().round(4)\n",
    "std_precision = CV_results['test_score'].std().round(4)\n",
    "print(f'El promedio de precisión es: {promedio_precision}')\n",
    "print(f'La desviación estándar de la precisión es: {std_precision}')\n",
    "print(f'El intervalo de confianza es: [{promedio_precision - 1.96 * std_precision}, {promedio_precision + 1.96 * std_precision}]')\n"
   ]
  },
  {
   "cell_type": "markdown",
   "metadata": {
    "id": "GAHrtLM2OCjO"
   },
   "source": [
    "### Validación cruzada con sensibilidad"
   ]
  },
  {
   "cell_type": "code",
   "execution_count": 32,
   "metadata": {
    "id": "Ywfsoe3_PLYZ"
   },
   "outputs": [],
   "source": [
    "def intervalo_confianza(resultados):\n",
    "    promedio = resultados['test_score'].mean().round(4)\n",
    "    std = resultados['test_score'].std().round(4)\n",
    "    return 'el intervalo de confianza es: [{}, {}]'.format(promedio - 1.96 * std, promedio + 1.96 * std)"
   ]
  },
  {
   "cell_type": "code",
   "execution_count": 50,
   "metadata": {
    "id": "PV3m-6IxPLMf"
   },
   "outputs": [
    {
     "data": {
      "text/plain": [
       "{'fit_time': array([0.22390962, 0.23537135, 0.24135399, 0.24941278, 0.25561905]),\n",
       " 'score_time': array([0.00698233, 0.00502443, 0.00701404, 0.00698137, 0.00796962]),\n",
       " 'test_score': array([0.02642008, 0.01856436, 0.0196802 , 0.0156658 , 0.02427746])}"
      ]
     },
     "execution_count": 50,
     "metadata": {},
     "output_type": "execute_result"
    }
   ],
   "source": [
    "modelo = DecisionTreeClassifier(max_depth=10, random_state=5)\n",
    "kf = KFold(n_splits=5, shuffle=True, random_state=5)\n",
    "CV_results = cross_validate(modelo, X, Y, cv=kf, scoring='recall')\n",
    "CV_results"
   ]
  },
  {
   "cell_type": "code",
   "execution_count": 53,
   "metadata": {
    "id": "Y-gpgU7pPLJv"
   },
   "outputs": [
    {
     "data": {
      "text/plain": [
       "'el intervalo de confianza es: [0.013255999999999999, 0.028544]'"
      ]
     },
     "execution_count": 53,
     "metadata": {},
     "output_type": "execute_result"
    }
   ],
   "source": [
    "intervalo_confianza(CV_results)"
   ]
  },
  {
   "cell_type": "markdown",
   "metadata": {
    "id": "-FAOYtNen4qJ"
   },
   "source": [
    "### Estratificando los datos"
   ]
  },
  {
   "cell_type": "code",
   "execution_count": 25,
   "metadata": {
    "id": "G6bPA6vaPN1A"
   },
   "outputs": [],
   "source": [
    "from sklearn.model_selection import StratifiedKFold"
   ]
  },
  {
   "cell_type": "code",
   "execution_count": 58,
   "metadata": {
    "id": "HONIpY1BPNzd"
   },
   "outputs": [
    {
     "data": {
      "text/plain": [
       "{'fit_time': array([0.22041035, 0.23446012, 0.21749544, 0.22253013, 0.23847365]),\n",
       " 'score_time': array([0.00502515, 0.00598431, 0.00697136, 0.00897694, 0.00697541]),\n",
       " 'test_score': array([0.03366584, 0.02496879, 0.03117207, 0.02369077, 0.0286783 ])}"
      ]
     },
     "execution_count": 58,
     "metadata": {},
     "output_type": "execute_result"
    }
   ],
   "source": [
    "modelo = DecisionTreeClassifier(max_depth=10, random_state=5)\n",
    "skf = StratifiedKFold(n_splits=5, shuffle=True, random_state=5)\n",
    "CV_results = cross_validate(modelo, X, Y, cv=skf, scoring='recall')\n",
    "CV_results"
   ]
  },
  {
   "cell_type": "code",
   "execution_count": 59,
   "metadata": {
    "id": "jCFRBhd_PNxT"
   },
   "outputs": [
    {
     "data": {
      "text/plain": [
       "'el intervalo de confianza es: [0.021148, 0.035652]'"
      ]
     },
     "execution_count": 59,
     "metadata": {},
     "output_type": "execute_result"
    }
   ],
   "source": [
    "intervalo_confianza(CV_results)"
   ]
  },
  {
   "cell_type": "code",
   "execution_count": 62,
   "metadata": {},
   "outputs": [
    {
     "data": {
      "text/plain": [
       "moroso\n",
       "0    0.91\n",
       "1    0.09\n",
       "Name: proportion, dtype: float64"
      ]
     },
     "execution_count": 62,
     "metadata": {},
     "output_type": "execute_result"
    }
   ],
   "source": [
    "datos.moroso.value_counts(normalize=True).round(2)"
   ]
  },
  {
   "cell_type": "markdown",
   "metadata": {
    "id": "yaVwNb1kn8sX"
   },
   "source": [
    "## <font color='dark'>Balanceo de los datos</h1>"
   ]
  },
  {
   "cell_type": "markdown",
   "metadata": {
    "id": "4eYKxWJd6g6w"
   },
   "source": [
    "### Oversampling"
   ]
  },
  {
   "cell_type": "markdown",
   "metadata": {
    "id": "N0MJ7hGUmL4l"
   },
   "source": [
    "https://imbalanced-learn.org/stable/references/generated/imblearn.over_sampling.SMOTE.html#id1"
   ]
  },
  {
   "cell_type": "code",
   "execution_count": 26,
   "metadata": {
    "id": "cO0Dx5xAO4B5"
   },
   "outputs": [],
   "source": [
    "from imblearn.over_sampling import SMOTE"
   ]
  },
  {
   "cell_type": "code",
   "execution_count": 27,
   "metadata": {
    "id": "h6DQqcttO3_c"
   },
   "outputs": [],
   "source": [
    "oversampling = SMOTE(random_state=5)\n",
    "x_balanceada, y_balanceada = oversampling.fit_resample(X, Y)"
   ]
  },
  {
   "cell_type": "code",
   "execution_count": 29,
   "metadata": {
    "id": "7Lp4GoMRO355"
   },
   "outputs": [
    {
     "data": {
      "text/plain": [
       "moroso\n",
       "0    41912\n",
       "1    41912\n",
       "Name: count, dtype: int64"
      ]
     },
     "execution_count": 29,
     "metadata": {},
     "output_type": "execute_result"
    }
   ],
   "source": [
    "y_balanceada.value_counts().round(2)"
   ]
  },
  {
   "cell_type": "code",
   "execution_count": 30,
   "metadata": {},
   "outputs": [
    {
     "data": {
      "text/plain": [
       "{'fit_time': array([0.59537983, 0.50973606, 0.49064827, 0.49819565, 0.50063014]),\n",
       " 'score_time': array([0.00997472, 0.00801873, 0.00798416, 0.00698233, 0.00796819]),\n",
       " 'test_score': array([0.73848723, 0.70890002, 0.7301682 , 0.72742455, 0.7188022 ])}"
      ]
     },
     "execution_count": 30,
     "metadata": {},
     "output_type": "execute_result"
    }
   ],
   "source": [
    "modelo = DecisionTreeClassifier(max_depth=10, random_state=5)\n",
    "skf = StratifiedKFold(n_splits=5, shuffle=True, random_state=5)\n",
    "CV_results = cross_validate(modelo, x_balanceada, y_balanceada, cv=skf, scoring='recall')\n",
    "CV_results"
   ]
  },
  {
   "cell_type": "code",
   "execution_count": 33,
   "metadata": {},
   "outputs": [
    {
     "data": {
      "text/plain": [
       "'el intervalo de confianza es: [0.705004, 0.744596]'"
      ]
     },
     "execution_count": 33,
     "metadata": {},
     "output_type": "execute_result"
    }
   ],
   "source": [
    "intervalo_confianza(CV_results)"
   ]
  },
  {
   "cell_type": "markdown",
   "metadata": {
    "id": "fHSNXznm6ia-"
   },
   "source": [
    "### Pipeline para validación"
   ]
  },
  {
   "cell_type": "code",
   "execution_count": 34,
   "metadata": {
    "id": "DaoAbR84O44S"
   },
   "outputs": [],
   "source": [
    "from imblearn.pipeline import Pipeline as imbpipeline"
   ]
  },
  {
   "cell_type": "code",
   "execution_count": 36,
   "metadata": {
    "id": "7UezUduWO41c"
   },
   "outputs": [],
   "source": [
    "modelo = DecisionTreeClassifier(max_depth=10, random_state=5)\n",
    "pipeline = imbpipeline([('oversampling', SMOTE(random_state=5)), ('modelo', modelo)])"
   ]
  },
  {
   "cell_type": "code",
   "execution_count": 37,
   "metadata": {
    "id": "b7Z-pe6wO4yN"
   },
   "outputs": [],
   "source": [
    "skf = StratifiedKFold(n_splits=5, shuffle=True, random_state=5)\n",
    "CV_results = cross_validate(pipeline, X, Y, cv=skf, scoring='recall')"
   ]
  },
  {
   "cell_type": "code",
   "execution_count": 38,
   "metadata": {},
   "outputs": [
    {
     "data": {
      "text/plain": [
       "'el intervalo de confianza es: [0.21978, 0.27662]'"
      ]
     },
     "execution_count": 38,
     "metadata": {},
     "output_type": "execute_result"
    }
   ],
   "source": [
    "intervalo_confianza(CV_results)"
   ]
  },
  {
   "cell_type": "markdown",
   "metadata": {
    "id": "66PlvwjX6kFv"
   },
   "source": [
    "### Undersampling"
   ]
  },
  {
   "cell_type": "markdown",
   "metadata": {
    "id": "Fh6VZN5Fx7wl"
   },
   "source": [
    "https://imbalanced-learn.org/stable/references/generated/imblearn.under_sampling.NearMiss.html"
   ]
  },
  {
   "cell_type": "code",
   "execution_count": 39,
   "metadata": {
    "id": "lUn59uqAO63N"
   },
   "outputs": [],
   "source": [
    "from imblearn.under_sampling import NearMiss"
   ]
  },
  {
   "cell_type": "code",
   "execution_count": 40,
   "metadata": {
    "id": "pOUKHwqRO6zb"
   },
   "outputs": [],
   "source": [
    "modelo = DecisionTreeClassifier(max_depth=10, random_state=5)\n",
    "pipeline = imbpipeline([('undersampling', NearMiss(version= 3 )), ('modelo', modelo)])\n",
    "skf = StratifiedKFold(n_splits=5, shuffle=True, random_state=5)\n",
    "CV_results = cross_validate(pipeline, X, Y, cv=skf, scoring='recall')"
   ]
  },
  {
   "cell_type": "code",
   "execution_count": 41,
   "metadata": {
    "id": "ykn9H4kFO6so"
   },
   "outputs": [
    {
     "data": {
      "text/plain": [
       "'el intervalo de confianza es: [0.629508, 0.6988920000000001]'"
      ]
     },
     "execution_count": 41,
     "metadata": {},
     "output_type": "execute_result"
    }
   ],
   "source": [
    "intervalo_confianza(CV_results)"
   ]
  },
  {
   "cell_type": "markdown",
   "metadata": {
    "id": "EP-44U0eHt-a"
   },
   "source": [
    "### Probando el modelo"
   ]
  },
  {
   "cell_type": "code",
   "execution_count": 42,
   "metadata": {
    "id": "XWhZlwOTO8eN"
   },
   "outputs": [],
   "source": [
    "undersample =  NearMiss(version=3)\n",
    "x_balanceada, y_balanceada = undersample.fit_resample(X, Y)"
   ]
  },
  {
   "cell_type": "code",
   "execution_count": 43,
   "metadata": {
    "id": "gZHVqM6hO8bt"
   },
   "outputs": [],
   "source": [
    "modelo = DecisionTreeClassifier(max_depth=10, random_state=5)\n",
    "modelo.fit(x_balanceada, y_balanceada)\n",
    "Y_previsto = modelo.predict(X_test)"
   ]
  },
  {
   "cell_type": "code",
   "execution_count": 44,
   "metadata": {
    "id": "QSrpOQpxO8WT"
   },
   "outputs": [
    {
     "name": "stdout",
     "output_type": "stream",
     "text": [
      "              precision    recall  f1-score   support\n",
      "\n",
      "           0       0.94      0.48      0.64      7397\n",
      "           1       0.11      0.70      0.20       707\n",
      "\n",
      "    accuracy                           0.50      8104\n",
      "   macro avg       0.53      0.59      0.42      8104\n",
      "weighted avg       0.87      0.50      0.60      8104\n",
      "\n"
     ]
    },
    {
     "data": {
      "text/plain": [
       "<sklearn.metrics._plot.confusion_matrix.ConfusionMatrixDisplay at 0x1f846338c40>"
      ]
     },
     "execution_count": 44,
     "metadata": {},
     "output_type": "execute_result"
    },
    {
     "data": {
      "image/png": "[encoded data removed]",
      "text/plain": [
       "<Figure size 640x480 with 2 Axes>"
      ]
     },
     "metadata": {},
     "output_type": "display_data"
    }
   ],
   "source": [
    "print(classification_report(Y_test, Y_previsto))\n",
    "ConfusionMatrixDisplay.from_predictions(Y_test, Y_previsto)"
   ]
  }
 ],
 "metadata": {
  "colab": {
   "include_colab_link": true,
   "provenance": []
  },
  "kernelspec": {
   "display_name": "Python 3",
   "name": "python3"
  },
  "language_info": {
   "codemirror_mode": {
    "name": "ipython",
    "version": 3
   },
   "file_extension": ".py",
   "mimetype": "text/x-python",
   "name": "python",
   "nbconvert_exporter": "python",
   "pygments_lexer": "ipython3",
   "version": "3.10.7"
  }
 },
 "nbformat": 4,
 "nbformat_minor": 0
}
